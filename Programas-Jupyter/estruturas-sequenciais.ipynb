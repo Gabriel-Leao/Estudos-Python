{
 "cells": [
  {
   "cell_type": "markdown",
   "metadata": {},
   "source": [
    "# Input\n",
    "É utilizado para pegar o que o usuário digitar e guardar dentro da variável, por padrão todo valo digitado no input é uma str.  "
   ]
  },
  {
   "cell_type": "code",
   "execution_count": 5,
   "metadata": {},
   "outputs": [
    {
     "name": "stdout",
     "output_type": "stream",
     "text": [
      "18 <class 'str'>\n"
     ]
    }
   ],
   "source": [
    "idade = input('Digite a sua idade: ')\n",
    "print(idade, type(idade))"
   ]
  },
  {
   "cell_type": "markdown",
   "metadata": {},
   "source": [
    "Para mudar esse padrão basta digitar o tipo da variável antes do input, como mostrado no código abaixo:"
   ]
  },
  {
   "cell_type": "code",
   "execution_count": 6,
   "metadata": {},
   "outputs": [
    {
     "name": "stdout",
     "output_type": "stream",
     "text": [
      "18 <class 'int'>\n"
     ]
    }
   ],
   "source": [
    "idade = int(input('Digite a sua idade: '))\n",
    "print(idade, type(idade))"
   ]
  },
  {
   "cell_type": "markdown",
   "metadata": {},
   "source": [
    "Também podemos transformar o tipo da variável como no exemplo a seguir onde o input é transformado em int, float e bool.  \n",
    "Caso o input seja uma letra teremos um erro ao converte-lo para alguma variável do tipo númerico.  \n",
    "O booleano será Falso apenas se o input for vazio ou o número 0, qualquer outro resultado o resultado será verdadeiro"
   ]
  },
  {
   "cell_type": "code",
   "execution_count": 20,
   "metadata": {},
   "outputs": [
    {
     "name": "stdout",
     "output_type": "stream",
     "text": [
      "9 <class 'str'>\n",
      "9 <class 'int'>\n",
      "9.0 <class 'float'>\n",
      "True <class 'bool'>\n"
     ]
    }
   ],
   "source": [
    "n1 = input('Digite um número: ')\n",
    "print(n1, type(n1))\n",
    "\n",
    "n1 = int(n1)\n",
    "print(n1, type(n1))\n",
    "\n",
    "n1 = float(n1)\n",
    "print(n1, type(n1))\n",
    "\n",
    "n1 = bool(n1)\n",
    "print(n1, type(n1))"
   ]
  },
  {
   "cell_type": "code",
   "execution_count": 23,
   "metadata": {},
   "outputs": [
    {
     "name": "stdout",
     "output_type": "stream",
     "text": [
      "O valor economizado ao final do ano será de:R$2400.00\n"
     ]
    }
   ],
   "source": [
    "salario_mensal = float(input('Digite o valor do seu salário mensal: '))\n",
    "gasto_mensal = float(input('Digite o valor que você gasta mensalmente: '))\n",
    "\n",
    "salario_anual = salario_mensal * 12\n",
    "gasto_anual = gasto_mensal * 12\n",
    "\n",
    "economia_total = salario_anual - gasto_anual\n",
    "print(f'O valor economizado ao final do ano será de:R${economia_total:.2f}')"
   ]
  }
 ],
 "metadata": {
  "interpreter": {
   "hash": "6f1a4c8fe0c55dec48ea5703cf2acc5f66ea4bdc5645e45c99b09a02a6560735"
  },
  "kernelspec": {
   "display_name": "Python 3.10.1 64-bit",
   "language": "python",
   "name": "python3"
  },
  "language_info": {
   "codemirror_mode": {
    "name": "ipython",
    "version": 3
   },
   "file_extension": ".py",
   "mimetype": "text/x-python",
   "name": "python",
   "nbconvert_exporter": "python",
   "pygments_lexer": "ipython3",
   "version": "3.10.1"
  },
  "orig_nbformat": 4
 },
 "nbformat": 4,
 "nbformat_minor": 2
}
