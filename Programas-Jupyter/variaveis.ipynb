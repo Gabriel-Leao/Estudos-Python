{
 "cells": [
  {
   "cell_type": "markdown",
   "metadata": {},
   "source": [
    "# Variável do tipo **inteiro**\n",
    "Este tipo de variável armazena apenas número inteiros. Ou seja, letras e números decimais não são permitidos.  \n",
    "Esse tipo de variável é identificado pela sigla **int**, como é mostrado no código abaixo. A função type() mostra o tipo dá variável."
   ]
  },
  {
   "cell_type": "code",
   "execution_count": 16,
   "metadata": {},
   "outputs": [
    {
     "name": "stdout",
     "output_type": "stream",
     "text": [
      "5 <class 'int'>\n"
     ]
    }
   ],
   "source": [
    "x = 5\n",
    "print(x, type(x))"
   ]
  },
  {
   "cell_type": "markdown",
   "metadata": {},
   "source": [
    "# Variável do tipo **Float**\n",
    "Este tipo de variável armazena apenas números decimais. Letras não são permitidas e números inteiros são convertiodos para decimais.  \n",
    "É classificado pela sigla **float**."
   ]
  },
  {
   "cell_type": "code",
   "execution_count": 17,
   "metadata": {},
   "outputs": [
    {
     "name": "stdout",
     "output_type": "stream",
     "text": [
      "9.99 <class 'float'>\n"
     ]
    }
   ],
   "source": [
    "preco = 9.99\n",
    "print(preco, type(preco))"
   ]
  },
  {
   "cell_type": "markdown",
   "metadata": {},
   "source": [
    "# Vatiável do tipo **String**\n",
    "Este tipo de variável armazena texto. Neste tipo de variável letras e números são tratadas como texto. Além da declaração usando aspas simples essa variável também pode ser declarada por aspas duplas.  \n",
    "Ela é identificada pela sigla **str**."
   ]
  },
  {
   "cell_type": "code",
   "execution_count": 18,
   "metadata": {},
   "outputs": [
    {
     "name": "stdout",
     "output_type": "stream",
     "text": [
      "Gabriel <class 'str'>\n"
     ]
    }
   ],
   "source": [
    "nome = 'Gabriel'\n",
    "print(nome, type(nome))"
   ]
  },
  {
   "cell_type": "markdown",
   "metadata": {},
   "source": [
    "# Variável do tipo **Booleano**\n",
    "Este tipo de variável armazena apenas valores booleanos, ou seja, verdadeiro (**True**) ou falso (**False**).  \n",
    "Este tipo de variável é representado pela sigla **bool**."
   ]
  },
  {
   "cell_type": "code",
   "execution_count": 19,
   "metadata": {},
   "outputs": [
    {
     "name": "stdout",
     "output_type": "stream",
     "text": [
      "True <class 'bool'>\n",
      "False <class 'bool'>\n"
     ]
    }
   ],
   "source": [
    "verdadeiro = True\n",
    "falso = False\n",
    "print(verdadeiro, type(verdadeiro))\n",
    "print(falso, type(falso))"
   ]
  }
 ],
 "metadata": {
  "interpreter": {
   "hash": "344ad93ff0e3e4769f99b7a27ec5fd9ca338564187e1d72569a64b57978906a8"
  },
  "kernelspec": {
   "display_name": "Python 3.10.1 64-bit ('mundo-pythonico': venv)",
   "language": "python",
   "name": "python3"
  },
  "language_info": {
   "codemirror_mode": {
    "name": "ipython",
    "version": 3
   },
   "file_extension": ".py",
   "mimetype": "text/x-python",
   "name": "python",
   "nbconvert_exporter": "python",
   "pygments_lexer": "ipython3",
   "version": "3.10.1"
  },
  "orig_nbformat": 4
 },
 "nbformat": 4,
 "nbformat_minor": 2
}
