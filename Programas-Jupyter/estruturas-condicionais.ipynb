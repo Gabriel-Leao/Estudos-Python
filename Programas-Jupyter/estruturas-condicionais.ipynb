{
 "cells": [
  {
   "cell_type": "markdown",
   "metadata": {},
   "source": [
    "# Declaração das variáveis"
   ]
  },
  {
   "cell_type": "code",
   "execution_count": 9,
   "metadata": {},
   "outputs": [],
   "source": [
    "valor_onibus = 4.40\n",
    "valor_uber = float(input('Digite o valor da corrida: '))"
   ]
  },
  {
   "cell_type": "markdown",
   "metadata": {},
   "source": [
    "# Estrutura condicional\n",
    "* o **if** serve para testar uma condição, ele retrona um valor booleano. Se a condição for veradeira ele executa o que está dentro da identação, caso contrário ele vai para a próxima linha, toda vez em que o **if** for aberto também é preciso abri um **else**. A tradução para o português seria **se**.\n",
    "* O **elif** é utilizado quando a estrutura tiver mais de uma condição, ela testa essas condições assim como o if, mas não é preciso abrir nenhum **else**.\n",
    "* o **else** ele é o último recurso de uma estrutura condicional e só é utilizado quando todas as condições forem falsas."
   ]
  },
  {
   "cell_type": "code",
   "execution_count": 10,
   "metadata": {},
   "outputs": [
    {
     "name": "stdout",
     "output_type": "stream",
     "text": [
      "Pegue o ônibus\n"
     ]
    }
   ],
   "source": [
    "if valor_uber <= valor_onibus * 5:\n",
    "    print('Pegue a corrida')\n",
    "elif valor_uber <= valor_onibus * 6:\n",
    "    print('Espere um pouco, pois o valor pode abaixar')\n",
    "else:\n",
    "    print('Pegue o ônibus')"
   ]
  }
 ],
 "metadata": {
  "interpreter": {
   "hash": "6f1a4c8fe0c55dec48ea5703cf2acc5f66ea4bdc5645e45c99b09a02a6560735"
  },
  "kernelspec": {
   "display_name": "Python 3.10.1 64-bit",
   "language": "python",
   "name": "python3"
  },
  "language_info": {
   "codemirror_mode": {
    "name": "ipython",
    "version": 3
   },
   "file_extension": ".py",
   "mimetype": "text/x-python",
   "name": "python",
   "nbconvert_exporter": "python",
   "pygments_lexer": "ipython3",
   "version": "3.10.1"
  },
  "orig_nbformat": 4
 },
 "nbformat": 4,
 "nbformat_minor": 2
}
