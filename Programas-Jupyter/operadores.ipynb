{
 "cells": [
  {
   "cell_type": "markdown",
   "metadata": {},
   "source": [
    "# Declaração das variáveis **x** e **y**"
   ]
  },
  {
   "cell_type": "code",
   "execution_count": 7,
   "metadata": {},
   "outputs": [],
   "source": [
    "x = 50\n",
    "y =2"
   ]
  },
  {
   "cell_type": "markdown",
   "metadata": {},
   "source": [
    "Operações basicas da matematica: **Adição, Subtração, Multiplicação e divisão**  \n",
    "No python as divisões comuns são do tipo **Float**."
   ]
  },
  {
   "cell_type": "code",
   "execution_count": 8,
   "metadata": {},
   "outputs": [
    {
     "name": "stdout",
     "output_type": "stream",
     "text": [
      "52\n",
      "48\n",
      "100\n",
      "25.0\n"
     ]
    }
   ],
   "source": [
    "print(x + y)\n",
    "print(x - y)\n",
    "print(x * y)\n",
    "print(x / y)"
   ]
  },
  {
   "cell_type": "markdown",
   "metadata": {},
   "source": [
    "Operações mais complexas: **Exponenciação, Divisão inteira e Resto da divisão**  \n",
    "As divisões inteiras tem como resultado um número inteiro. Ela não arredonda o número, caso a divisão entre dois números não tenha um número inteiro como resultado, o resultado será igual a 0"
   ]
  },
  {
   "cell_type": "code",
   "execution_count": 9,
   "metadata": {},
   "outputs": [
    {
     "name": "stdout",
     "output_type": "stream",
     "text": [
      "2500\n",
      "25\n",
      "0\n"
     ]
    }
   ],
   "source": [
    "print(x ** y)\n",
    "print(x // y)\n",
    "print(x % y)"
   ]
  },
  {
   "cell_type": "markdown",
   "metadata": {},
   "source": [
    "# Operadores **Lógicos**  \n",
    "O operador **not** transforma toda expressão booleana em seu contrário  \n",
    "O operador **or** terá o resultado final True se ao menos uma da expressões forem verdadeiras, caso contrário o resultado final será False  \n",
    "O operador **and** terá o resultado True apenas se ambas as expressões forem verdadeiras, caso contrário o resultado final será False"
   ]
  },
  {
   "cell_type": "code",
   "execution_count": 12,
   "metadata": {},
   "outputs": [
    {
     "name": "stdout",
     "output_type": "stream",
     "text": [
      "False\n",
      "True\n",
      "False\n"
     ]
    }
   ],
   "source": [
    "tem_cafe = True\n",
    "tem_pao = False\n",
    "print(not tem_cafe)\n",
    "print(tem_cafe or tem_pao)\n",
    "print(tem_cafe and tem_pao)"
   ]
  },
  {
   "cell_type": "markdown",
   "metadata": {},
   "source": [
    "# Operadores de **Comparação**  \n",
    "Retorna valores booleanos  \n",
    "Listado abaixo operadores de comparação ou relacionais:  \n",
    "* Maior que >\n",
    "* Menor que <\n",
    "* Maior ou igual a >=\n",
    "* Menor ou igual a <=\n",
    "* Igual a ==\n",
    "* Diferente de != "
   ]
  },
  {
   "cell_type": "code",
   "execution_count": 15,
   "metadata": {},
   "outputs": [
    {
     "name": "stdout",
     "output_type": "stream",
     "text": [
      "True\n",
      "False\n",
      "True\n",
      "False\n",
      "False\n",
      "True\n"
     ]
    }
   ],
   "source": [
    "dolar = 5.63\n",
    "real = 1\n",
    "print(dolar > real)\n",
    "print(dolar < real)\n",
    "print(dolar >= real)\n",
    "print(dolar <= real)\n",
    "print(dolar == real)\n",
    "print(dolar != real)"
   ]
  }
 ],
 "metadata": {
  "interpreter": {
   "hash": "6f1a4c8fe0c55dec48ea5703cf2acc5f66ea4bdc5645e45c99b09a02a6560735"
  },
  "kernelspec": {
   "display_name": "Python 3.10.1 64-bit",
   "language": "python",
   "name": "python3"
  },
  "language_info": {
   "codemirror_mode": {
    "name": "ipython",
    "version": 3
   },
   "file_extension": ".py",
   "mimetype": "text/x-python",
   "name": "python",
   "nbconvert_exporter": "python",
   "pygments_lexer": "ipython3",
   "version": "3.10.1"
  },
  "orig_nbformat": 4
 },
 "nbformat": 4,
 "nbformat_minor": 2
}
