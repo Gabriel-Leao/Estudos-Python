{
 "cells": [
  {
   "cell_type": "markdown",
   "metadata": {},
   "source": [
    "# Declaração da variável **cont**"
   ]
  },
  {
   "cell_type": "code",
   "execution_count": 3,
   "metadata": {},
   "outputs": [],
   "source": [
    "cont = 0"
   ]
  },
  {
   "cell_type": "markdown",
   "metadata": {},
   "source": [
    "# Estrutura de repetição **while**\n",
    "Essa estrutura testa uma condição, enquato ela for verdadeira o código é executado repetidamente até que essa condição se torne falsa."
   ]
  },
  {
   "cell_type": "code",
   "execution_count": 4,
   "metadata": {},
   "outputs": [
    {
     "name": "stdout",
     "output_type": "stream",
     "text": [
      "0\n",
      "1\n",
      "2\n",
      "3\n",
      "4\n",
      "5\n",
      "6\n",
      "7\n",
      "8\n",
      "9\n",
      "10\n"
     ]
    }
   ],
   "source": [
    "while cont <= 10:\n",
    "    print(cont)\n",
    "    cont +=1"
   ]
  },
  {
   "cell_type": "markdown",
   "metadata": {},
   "source": [
    " No exemplo abaixo temos um loop infinito criado com o seguinte código: **while True**, ele só irá para caso a variável r seja igaul a n ou N. Para parar utilizamos o **break**, e o **continue** dá proseguimento ao loop, voltando para o início e repetindo o algorítmo"
   ]
  },
  {
   "cell_type": "code",
   "execution_count": 5,
   "metadata": {},
   "outputs": [],
   "source": [
    "while True:\n",
    "    r = str(input('Deseja contiuar? [S/N]: '))\n",
    "    if r == \"S\" or r =='s':\n",
    "        continue\n",
    "    elif r == \"N\" or r == 'n':\n",
    "        break\n",
    "    else:\n",
    "        print('Opção inválida. Tente novamente')\n",
    "        continue"
   ]
  }
 ],
 "metadata": {
  "interpreter": {
   "hash": "6f1a4c8fe0c55dec48ea5703cf2acc5f66ea4bdc5645e45c99b09a02a6560735"
  },
  "kernelspec": {
   "display_name": "Python 3.10.1 64-bit",
   "language": "python",
   "name": "python3"
  },
  "language_info": {
   "codemirror_mode": {
    "name": "ipython",
    "version": 3
   },
   "file_extension": ".py",
   "mimetype": "text/x-python",
   "name": "python",
   "nbconvert_exporter": "python",
   "pygments_lexer": "ipython3",
   "version": "3.10.1"
  },
  "orig_nbformat": 4
 },
 "nbformat": 4,
 "nbformat_minor": 2
}
